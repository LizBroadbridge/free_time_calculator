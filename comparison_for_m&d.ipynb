{
 "cells": [
  {
   "cell_type": "code",
   "execution_count": 40,
   "id": "ad09b522-3740-44af-ab33-2d80fc58cab5",
   "metadata": {},
   "outputs": [
    {
     "name": "stdout",
     "output_type": "stream",
     "text": [
      "| Text                     |   Duration |\n",
      "|:-------------------------|-----------:|\n",
      "| Free                     |       30.4 |\n",
      "| Free (at Gymnastics)     |        0.8 |\n",
      "| Free (boys at home)      |       35.2 |\n",
      "| Free (boys in bed)       |       12   |\n",
      "| Free (with Milo at home) |        2.2 |\n",
      "| Total                    |       80.6 |\n"
     ]
    }
   ],
   "source": [
    "import pandas as pd\n",
    "df = pd.read_csv(\"./csv/baseline_1_week.csv\")\n",
    "df = df[df[\"Text\"].str.startswith(\"Free\")].reset_index(drop=True)\n",
    "df[\"Start\"] = pd.to_datetime(df[\"Start\"], format=\"%H:%M\")\n",
    "df[\"End\"] = pd.to_datetime(df[\"End\"], format=\"%H:%M\")\n",
    "df[\"Duration\"] = (df[\"End\"] - df[\"Start\"]).dt.total_seconds() / 60 / 60\n",
    "df = df.groupby(\"Text\")[\"Duration\"].sum().reset_index()\n",
    "totals = df.iloc[:, 1:].sum()\n",
    "totals_df = pd.DataFrame(totals).T\n",
    "totals_df.insert(0, 'Text', 'Total')\n",
    "df = pd.concat([df, totals_df])\n",
    "df.iloc[:, 1:] = df.iloc[:,1:].map(lambda x: round(x, 1))\n",
    "print(df.to_markdown(index=False))"
   ]
  },
  {
   "cell_type": "code",
   "execution_count": 47,
   "id": "3ffb327f-ab44-44c4-80ae-6ba1dc7f98eb",
   "metadata": {},
   "outputs": [
    {
     "name": "stdout",
     "output_type": "stream",
     "text": [
      "| Text                     |   Duration |\n",
      "|:-------------------------|-----------:|\n",
      "| Free                     |       40.8 |\n",
      "| Free (at Gymnastics)     |        0.8 |\n",
      "| Free (boys at home)      |       32.3 |\n",
      "| Free (boys in bed)       |       10   |\n",
      "| Free (with Milo at home) |        2.2 |\n",
      "| Total                    |       86.2 |\n",
      "\n",
      "Delta:\n",
      "| Text                     |   Duration |\n",
      "|:-------------------------|-----------:|\n",
      "| Free                     |       10.4 |\n",
      "| Free (at Gymnastics)     |        0   |\n",
      "| Free (boys at home)      |       -2.9 |\n",
      "| Free (boys in bed)       |       -2   |\n",
      "| Free (with Milo at home) |        0   |\n",
      "| Total                    |        5.6 |\n"
     ]
    }
   ],
   "source": [
    "df2 = pd.read_csv(\"./csv/m&d_thurs_sleepover.csv\")\n",
    "df2 = df2[df2[\"Text\"].str.startswith(\"Free\")].reset_index(drop=True)\n",
    "df2[\"Start\"] = pd.to_datetime(df2[\"Start\"], format=\"%H:%M\")\n",
    "df2[\"End\"] = pd.to_datetime(df2[\"End\"], format=\"%H:%M\")\n",
    "df2[\"Duration\"] = (df2[\"End\"] - df2[\"Start\"]).dt.total_seconds() / 60 / 60\n",
    "df2 = df2.groupby(\"Text\")[\"Duration\"].sum().reset_index()\n",
    "totals = df2.iloc[:, 1:].sum()\n",
    "totals_df = pd.DataFrame(totals).T\n",
    "totals_df.insert(0, 'Text', 'Total')\n",
    "df2 = pd.concat([df2, totals_df])\n",
    "df2.iloc[:, 1:] = df2.iloc[:,1:].map(lambda x: round(x, 1))\n",
    "print(df2.to_markdown(index=False))\n",
    "print(\"\\nDelta:\")\n",
    "df2_delta = df2.copy()\n",
    "df2_delta.iloc[:, 1:] = df2_delta.iloc[:, 1:] - df.iloc[:, 1:]\n",
    "print(df2_delta.to_markdown(index=False))"
   ]
  }
 ],
 "metadata": {
  "kernelspec": {
   "display_name": "Python 3 (ipykernel)",
   "language": "python",
   "name": "python3"
  },
  "language_info": {
   "codemirror_mode": {
    "name": "ipython",
    "version": 3
   },
   "file_extension": ".py",
   "mimetype": "text/x-python",
   "name": "python",
   "nbconvert_exporter": "python",
   "pygments_lexer": "ipython3",
   "version": "3.11.2"
  }
 },
 "nbformat": 4,
 "nbformat_minor": 5
}
